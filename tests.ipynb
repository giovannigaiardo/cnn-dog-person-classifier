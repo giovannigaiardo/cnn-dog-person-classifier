{
 "cells": [
  {
   "cell_type": "code",
   "execution_count": 1,
   "metadata": {},
   "outputs": [],
   "source": [
    "import os\n",
    "import pickle\n",
    "from tqdm import tqdm\n",
    "import numpy as np\n",
    "import pandas as pd\n",
    "import matplotlib.pyplot as plt\n",
    "import tensorflow as tf\n",
    "from tensorflow import keras"
   ]
  },
  {
   "cell_type": "code",
   "execution_count": 2,
   "metadata": {},
   "outputs": [],
   "source": [
    "BATCH_SIZE = 32\n",
    "LEARNING_RATE = 1e-3\n",
    "EPOCHS = 20"
   ]
  },
  {
   "cell_type": "code",
   "execution_count": 3,
   "metadata": {},
   "outputs": [],
   "source": [
    "annotations_df = pd.read_csv(r\"C:\\Users\\AdmPDI\\Documents\\cnn-dog-person-classifier\\modified_voc\\annotations.csv\")"
   ]
  },
  {
   "cell_type": "code",
   "execution_count": 4,
   "metadata": {},
   "outputs": [
    {
     "data": {
      "text/plain": [
       "<bound method Series.items of 0       image_0062.jpg\n",
       "1       image_0238.jpg\n",
       "2       image_0674.jpg\n",
       "3       image_0747.jpg\n",
       "4       image_0252.jpg\n",
       "             ...      \n",
       "1197    image_1656.jpg\n",
       "1198    image_0308.jpg\n",
       "1199    image_1370.jpg\n",
       "1200    image_1658.jpg\n",
       "1201    image_1622.jpg\n",
       "Name: image, Length: 1202, dtype: object>"
      ]
     },
     "execution_count": 4,
     "metadata": {},
     "output_type": "execute_result"
    }
   ],
   "source": [
    "annotations_df[\"image\"].items"
   ]
  },
  {
   "cell_type": "code",
   "execution_count": 5,
   "metadata": {},
   "outputs": [
    {
     "data": {
      "text/html": [
       "<div>\n",
       "<style scoped>\n",
       "    .dataframe tbody tr th:only-of-type {\n",
       "        vertical-align: middle;\n",
       "    }\n",
       "\n",
       "    .dataframe tbody tr th {\n",
       "        vertical-align: top;\n",
       "    }\n",
       "\n",
       "    .dataframe thead th {\n",
       "        text-align: right;\n",
       "    }\n",
       "</style>\n",
       "<table border=\"1\" class=\"dataframe\">\n",
       "  <thead>\n",
       "    <tr style=\"text-align: right;\">\n",
       "      <th></th>\n",
       "      <th>image</th>\n",
       "      <th>dog</th>\n",
       "      <th>person</th>\n",
       "      <th>split</th>\n",
       "    </tr>\n",
       "  </thead>\n",
       "  <tbody>\n",
       "    <tr>\n",
       "      <th>0</th>\n",
       "      <td>image_0062.jpg</td>\n",
       "      <td>0</td>\n",
       "      <td>0</td>\n",
       "      <td>train</td>\n",
       "    </tr>\n",
       "    <tr>\n",
       "      <th>1</th>\n",
       "      <td>image_0238.jpg</td>\n",
       "      <td>0</td>\n",
       "      <td>0</td>\n",
       "      <td>test</td>\n",
       "    </tr>\n",
       "    <tr>\n",
       "      <th>2</th>\n",
       "      <td>image_0674.jpg</td>\n",
       "      <td>0</td>\n",
       "      <td>1</td>\n",
       "      <td>train</td>\n",
       "    </tr>\n",
       "    <tr>\n",
       "      <th>3</th>\n",
       "      <td>image_0747.jpg</td>\n",
       "      <td>0</td>\n",
       "      <td>1</td>\n",
       "      <td>test</td>\n",
       "    </tr>\n",
       "    <tr>\n",
       "      <th>4</th>\n",
       "      <td>image_0252.jpg</td>\n",
       "      <td>0</td>\n",
       "      <td>0</td>\n",
       "      <td>train</td>\n",
       "    </tr>\n",
       "  </tbody>\n",
       "</table>\n",
       "</div>"
      ],
      "text/plain": [
       "            image  dog  person  split\n",
       "0  image_0062.jpg    0       0  train\n",
       "1  image_0238.jpg    0       0   test\n",
       "2  image_0674.jpg    0       1  train\n",
       "3  image_0747.jpg    0       1   test\n",
       "4  image_0252.jpg    0       0  train"
      ]
     },
     "execution_count": 5,
     "metadata": {},
     "output_type": "execute_result"
    }
   ],
   "source": [
    "annotations_df.head()"
   ]
  },
  {
   "cell_type": "code",
   "execution_count": 6,
   "metadata": {},
   "outputs": [
    {
     "data": {
      "text/plain": [
       "72.12978369384359"
      ]
     },
     "execution_count": 6,
     "metadata": {},
     "output_type": "execute_result"
    }
   ],
   "source": [
    "annotations_df['split'].value_counts()['train']*100/len(annotations_df.index)"
   ]
  },
  {
   "cell_type": "code",
   "execution_count": 7,
   "metadata": {},
   "outputs": [
    {
     "data": {
      "text/html": [
       "<div>\n",
       "<style scoped>\n",
       "    .dataframe tbody tr th:only-of-type {\n",
       "        vertical-align: middle;\n",
       "    }\n",
       "\n",
       "    .dataframe tbody tr th {\n",
       "        vertical-align: top;\n",
       "    }\n",
       "\n",
       "    .dataframe thead th {\n",
       "        text-align: right;\n",
       "    }\n",
       "</style>\n",
       "<table border=\"1\" class=\"dataframe\">\n",
       "  <thead>\n",
       "    <tr style=\"text-align: right;\">\n",
       "      <th></th>\n",
       "      <th>image</th>\n",
       "      <th>split</th>\n",
       "      <th>labels</th>\n",
       "    </tr>\n",
       "  </thead>\n",
       "  <tbody>\n",
       "    <tr>\n",
       "      <th>689</th>\n",
       "      <td>image_0208.jpg</td>\n",
       "      <td>test</td>\n",
       "      <td>[0, 0]</td>\n",
       "    </tr>\n",
       "    <tr>\n",
       "      <th>291</th>\n",
       "      <td>image_1360.jpg</td>\n",
       "      <td>test</td>\n",
       "      <td>[0, 1]</td>\n",
       "    </tr>\n",
       "    <tr>\n",
       "      <th>290</th>\n",
       "      <td>image_0894.jpg</td>\n",
       "      <td>test</td>\n",
       "      <td>[0, 1]</td>\n",
       "    </tr>\n",
       "    <tr>\n",
       "      <th>535</th>\n",
       "      <td>image_1654.jpg</td>\n",
       "      <td>test</td>\n",
       "      <td>[0, 1]</td>\n",
       "    </tr>\n",
       "    <tr>\n",
       "      <th>288</th>\n",
       "      <td>image_1229.jpg</td>\n",
       "      <td>test</td>\n",
       "      <td>[0, 1]</td>\n",
       "    </tr>\n",
       "  </tbody>\n",
       "</table>\n",
       "</div>"
      ],
      "text/plain": [
       "              image split  labels\n",
       "689  image_0208.jpg  test  [0, 0]\n",
       "291  image_1360.jpg  test  [0, 1]\n",
       "290  image_0894.jpg  test  [0, 1]\n",
       "535  image_1654.jpg  test  [0, 1]\n",
       "288  image_1229.jpg  test  [0, 1]"
      ]
     },
     "execution_count": 7,
     "metadata": {},
     "output_type": "execute_result"
    }
   ],
   "source": [
    "annotations_df[\"labels\"] = (\n",
    "    annotations_df.filter(['dog', 'person'])\n",
    "    .apply(lambda row: row.to_numpy(), axis=1)\n",
    ")\n",
    "annotations_df.drop([\"dog\", \"person\"],axis=1, inplace=True)\n",
    "annotations_df.sort_values(by=\"split\", inplace=True)\n",
    "annotations_df.head()"
   ]
  },
  {
   "cell_type": "code",
   "execution_count": 8,
   "metadata": {},
   "outputs": [],
   "source": [
    "def load_image(image_path):\n",
    "    parent_folder_name = \"modified_voc\"\n",
    "    image_path = os.path.join(parent_folder_name, image_path)\n",
    "    image = tf.io.read_file(image_path)\n",
    "    image = tf.image.decode_jpeg(image, channels=3)\n",
    "    return image\n",
    "\n",
    "def load_images(images: pd.Series)-> list:\n",
    "    image_list = []\n",
    "    for _, image_path in tqdm(images.items(), total=images.size):\n",
    "        image_list.append(load_image(image_path))\n",
    "    return image_list"
   ]
  },
  {
   "cell_type": "code",
   "execution_count": 9,
   "metadata": {},
   "outputs": [
    {
     "name": "stderr",
     "output_type": "stream",
     "text": [
      "  0%|          | 0/1202 [00:00<?, ?it/s]"
     ]
    },
    {
     "name": "stderr",
     "output_type": "stream",
     "text": [
      "100%|██████████| 1202/1202 [00:02<00:00, 490.00it/s]\n"
     ]
    }
   ],
   "source": [
    "images = load_images(images=annotations_df[\"image\"])"
   ]
  },
  {
   "cell_type": "code",
   "execution_count": 10,
   "metadata": {},
   "outputs": [],
   "source": [
    "labels = annotations_df[\"labels\"].tolist()"
   ]
  },
  {
   "cell_type": "code",
   "execution_count": 11,
   "metadata": {},
   "outputs": [],
   "source": [
    "data = tf.data.Dataset.from_tensor_slices((images, labels))"
   ]
  },
  {
   "cell_type": "code",
   "execution_count": 12,
   "metadata": {},
   "outputs": [],
   "source": [
    "num_test_samples = annotations_df[\"split\"].value_counts()[\"test\"]"
   ]
  },
  {
   "cell_type": "code",
   "execution_count": 13,
   "metadata": {},
   "outputs": [],
   "source": [
    "test_data = data.take(num_test_samples)\n",
    "val_data = test_data.skip(100)\n",
    "test_data = test_data.take(100)\n",
    "train_data = data.skip(num_test_samples)"
   ]
  },
  {
   "cell_type": "code",
   "execution_count": 14,
   "metadata": {},
   "outputs": [],
   "source": [
    "val_data = val_data.batch(BATCH_SIZE)\n",
    "train_data = train_data.batch(BATCH_SIZE)"
   ]
  },
  {
   "cell_type": "code",
   "execution_count": 15,
   "metadata": {},
   "outputs": [
    {
     "name": "stdout",
     "output_type": "stream",
     "text": [
      "WARNING:tensorflow:`input_shape` is undefined or non-square, or `rows` is not in [128, 160, 192, 224]. Weights for input shape (224, 224) will be loaded as the default.\n"
     ]
    }
   ],
   "source": [
    "backbone_model = keras.applications.MobileNet(include_top=False, weights=\"imagenet\")\n",
    "backbone_model.trainable = False"
   ]
  },
  {
   "cell_type": "code",
   "execution_count": 24,
   "metadata": {},
   "outputs": [
    {
     "name": "stdout",
     "output_type": "stream",
     "text": [
      "Model: \"model\"\n",
      "_________________________________________________________________\n",
      " Layer (type)                Output Shape              Param #   \n",
      "=================================================================\n",
      " input_2 (InputLayer)        [(None, 224, 224, 3)]     0         \n",
      "                                                                 \n",
      " tf.math.truediv (TFOpLambda  (None, 224, 224, 3)      0         \n",
      " )                                                               \n",
      "                                                                 \n",
      " tf.math.subtract (TFOpLambd  (None, 224, 224, 3)      0         \n",
      " a)                                                              \n",
      "                                                                 \n",
      " mobilenet_1.00_224 (Functio  (None, None, None, 1024)  3228864  \n",
      " nal)                                                            \n",
      "                                                                 \n",
      " global_average_pooling2d (G  (None, 1024)             0         \n",
      " lobalAveragePooling2D)                                          \n",
      "                                                                 \n",
      " dense (Dense)               (None, 2)                 2050      \n",
      "                                                                 \n",
      "=================================================================\n",
      "Total params: 3,230,914\n",
      "Trainable params: 2,050\n",
      "Non-trainable params: 3,228,864\n",
      "_________________________________________________________________\n"
     ]
    }
   ],
   "source": [
    "inputs = keras.Input(shape=(224,224,3))\n",
    "x = keras.applications.mobilenet.preprocess_input(inputs)\n",
    "x = backbone_model(x, training=False)\n",
    "x = keras.layers.GlobalAveragePooling2D()(x)\n",
    "outputs = keras.layers.Dense(units=2, activation=\"sigmoid\")(x)\n",
    "model = keras.Model(inputs, outputs)\n",
    "model.summary()"
   ]
  },
  {
   "cell_type": "code",
   "execution_count": 25,
   "metadata": {},
   "outputs": [],
   "source": [
    "model.compile(optimizer=keras.optimizers.Adam(learning_rate=LEARNING_RATE), loss=keras.losses.BinaryCrossentropy(), metrics=[keras.metrics.Precision(class_id=0, name=\"Precision (Dog)\"), keras.metrics.Recall(class_id=0, name=\"Recall (Dog)\"), keras.metrics.Precision(class_id=1, name=\"Precision (Person)\"), keras.metrics.Recall(class_id=1, name=\"Recall (Person)\")], run_eagerly=True)"
   ]
  },
  {
   "cell_type": "code",
   "execution_count": 26,
   "metadata": {},
   "outputs": [
    {
     "name": "stdout",
     "output_type": "stream",
     "text": [
      "Epoch 1/20\n",
      "28/28 [==============================] - 50s 2s/step - loss: 0.5013 - Precision (Dog): 0.1915 - Recall (Dog): 0.0841 - Precision (Person): 0.7094 - Recall (Person): 0.7782 - val_loss: 0.4097 - val_Precision (Dog): 0.4000 - val_Recall (Dog): 0.0667 - val_Precision (Person): 0.7714 - val_Recall (Person): 0.8308\n",
      "Epoch 2/20\n",
      "28/28 [==============================] - 54s 2s/step - loss: 0.3379 - Precision (Dog): 0.6667 - Recall (Dog): 0.2430 - Precision (Person): 0.8433 - Recall (Person): 0.8416 - val_loss: 0.3398 - val_Precision (Dog): 0.8333 - val_Recall (Dog): 0.1667 - val_Precision (Person): 0.8085 - val_Recall (Person): 0.8769\n",
      "Epoch 3/20\n",
      "28/28 [==============================] - 55s 2s/step - loss: 0.2756 - Precision (Dog): 0.7586 - Recall (Dog): 0.4112 - Precision (Person): 0.8952 - Recall (Person): 0.8455 - val_loss: 0.3104 - val_Precision (Dog): 0.8571 - val_Recall (Dog): 0.2000 - val_Precision (Person): 0.8116 - val_Recall (Person): 0.8615\n",
      "Epoch 4/20\n",
      "28/28 [==============================] - 54s 2s/step - loss: 0.2394 - Precision (Dog): 0.8529 - Recall (Dog): 0.5421 - Precision (Person): 0.9125 - Recall (Person): 0.8673 - val_loss: 0.2936 - val_Precision (Dog): 0.9091 - val_Recall (Dog): 0.3333 - val_Precision (Person): 0.8188 - val_Recall (Person): 0.8692\n",
      "Epoch 5/20\n",
      "28/28 [==============================] - 54s 2s/step - loss: 0.2144 - Precision (Dog): 0.8919 - Recall (Dog): 0.6168 - Precision (Person): 0.9223 - Recall (Person): 0.8693 - val_loss: 0.2822 - val_Precision (Dog): 0.9091 - val_Recall (Dog): 0.3333 - val_Precision (Person): 0.8201 - val_Recall (Person): 0.8769\n",
      "Epoch 6/20\n",
      "28/28 [==============================] - 54s 2s/step - loss: 0.1955 - Precision (Dog): 0.8961 - Recall (Dog): 0.6449 - Precision (Person): 0.9310 - Recall (Person): 0.8812 - val_loss: 0.2736 - val_Precision (Dog): 0.8125 - val_Recall (Dog): 0.4333 - val_Precision (Person): 0.8444 - val_Recall (Person): 0.8769\n",
      "Epoch 7/20\n",
      "28/28 [==============================] - 60s 2s/step - loss: 0.1803 - Precision (Dog): 0.9136 - Recall (Dog): 0.6916 - Precision (Person): 0.9435 - Recall (Person): 0.8931 - val_loss: 0.2667 - val_Precision (Dog): 0.8125 - val_Recall (Dog): 0.4333 - val_Precision (Person): 0.8444 - val_Recall (Person): 0.8769\n",
      "Epoch 8/20\n",
      "28/28 [==============================] - 57s 2s/step - loss: 0.1678 - Precision (Dog): 0.9286 - Recall (Dog): 0.7290 - Precision (Person): 0.9504 - Recall (Person): 0.9109 - val_loss: 0.2609 - val_Precision (Dog): 0.7895 - val_Recall (Dog): 0.5000 - val_Precision (Person): 0.8444 - val_Recall (Person): 0.8769\n",
      "Epoch 9/20\n",
      "28/28 [==============================] - 69s 2s/step - loss: 0.1571 - Precision (Dog): 0.9310 - Recall (Dog): 0.7570 - Precision (Person): 0.9504 - Recall (Person): 0.9109 - val_loss: 0.2561 - val_Precision (Dog): 0.8000 - val_Recall (Dog): 0.5333 - val_Precision (Person): 0.8507 - val_Recall (Person): 0.8769\n",
      "Epoch 10/20\n",
      "28/28 [==============================] - 64s 2s/step - loss: 0.1479 - Precision (Dog): 0.9355 - Recall (Dog): 0.8131 - Precision (Person): 0.9545 - Recall (Person): 0.9149 - val_loss: 0.2520 - val_Precision (Dog): 0.8000 - val_Recall (Dog): 0.5333 - val_Precision (Person): 0.8561 - val_Recall (Person): 0.8692\n",
      "Epoch 11/20\n",
      "28/28 [==============================] - 60s 2s/step - loss: 0.1398 - Precision (Dog): 0.9462 - Recall (Dog): 0.8224 - Precision (Person): 0.9588 - Recall (Person): 0.9228 - val_loss: 0.2485 - val_Precision (Dog): 0.8000 - val_Recall (Dog): 0.5333 - val_Precision (Person): 0.8507 - val_Recall (Person): 0.8769\n",
      "Epoch 12/20\n",
      "28/28 [==============================] - 54s 2s/step - loss: 0.1326 - Precision (Dog): 0.9574 - Recall (Dog): 0.8411 - Precision (Person): 0.9608 - Recall (Person): 0.9228 - val_loss: 0.2455 - val_Precision (Dog): 0.8000 - val_Recall (Dog): 0.5333 - val_Precision (Person): 0.8571 - val_Recall (Person): 0.8769\n",
      "Epoch 13/20\n",
      "28/28 [==============================] - 53s 2s/step - loss: 0.1260 - Precision (Dog): 0.9677 - Recall (Dog): 0.8411 - Precision (Person): 0.9612 - Recall (Person): 0.9327 - val_loss: 0.2428 - val_Precision (Dog): 0.8000 - val_Recall (Dog): 0.5333 - val_Precision (Person): 0.8702 - val_Recall (Person): 0.8769\n",
      "Epoch 14/20\n",
      "28/28 [==============================] - 52s 2s/step - loss: 0.1201 - Precision (Dog): 0.9892 - Recall (Dog): 0.8598 - Precision (Person): 0.9613 - Recall (Person): 0.9347 - val_loss: 0.2405 - val_Precision (Dog): 0.8000 - val_Recall (Dog): 0.5333 - val_Precision (Person): 0.8692 - val_Recall (Person): 0.8692\n",
      "Epoch 15/20\n",
      "28/28 [==============================] - 51s 2s/step - loss: 0.1146 - Precision (Dog): 0.9896 - Recall (Dog): 0.8879 - Precision (Person): 0.9615 - Recall (Person): 0.9386 - val_loss: 0.2386 - val_Precision (Dog): 0.8000 - val_Recall (Dog): 0.5333 - val_Precision (Person): 0.8692 - val_Recall (Person): 0.8692\n",
      "Epoch 16/20\n",
      "28/28 [==============================] - 49s 2s/step - loss: 0.1096 - Precision (Dog): 0.9896 - Recall (Dog): 0.8879 - Precision (Person): 0.9654 - Recall (Person): 0.9386 - val_loss: 0.2369 - val_Precision (Dog): 0.8095 - val_Recall (Dog): 0.5667 - val_Precision (Person): 0.8692 - val_Recall (Person): 0.8692\n",
      "Epoch 17/20\n",
      "28/28 [==============================] - 48s 2s/step - loss: 0.1049 - Precision (Dog): 0.9897 - Recall (Dog): 0.8972 - Precision (Person): 0.9675 - Recall (Person): 0.9446 - val_loss: 0.2355 - val_Precision (Dog): 0.8095 - val_Recall (Dog): 0.5667 - val_Precision (Person): 0.8769 - val_Recall (Person): 0.8769\n",
      "Epoch 18/20\n",
      "28/28 [==============================] - 48s 2s/step - loss: 0.1006 - Precision (Dog): 0.9897 - Recall (Dog): 0.8972 - Precision (Person): 0.9695 - Recall (Person): 0.9446 - val_loss: 0.2343 - val_Precision (Dog): 0.8182 - val_Recall (Dog): 0.6000 - val_Precision (Person): 0.8769 - val_Recall (Person): 0.8769\n",
      "Epoch 19/20\n",
      "28/28 [==============================] - 51s 2s/step - loss: 0.0965 - Precision (Dog): 0.9898 - Recall (Dog): 0.9065 - Precision (Person): 0.9736 - Recall (Person): 0.9485 - val_loss: 0.2333 - val_Precision (Dog): 0.8182 - val_Recall (Dog): 0.6000 - val_Precision (Person): 0.8837 - val_Recall (Person): 0.8769\n",
      "Epoch 20/20\n",
      "28/28 [==============================] - 53s 2s/step - loss: 0.0927 - Precision (Dog): 0.9900 - Recall (Dog): 0.9252 - Precision (Person): 0.9756 - Recall (Person): 0.9485 - val_loss: 0.2326 - val_Precision (Dog): 0.8182 - val_Recall (Dog): 0.6000 - val_Precision (Person): 0.8906 - val_Recall (Person): 0.8769\n"
     ]
    }
   ],
   "source": [
    "history = model.fit(train_data, epochs=EPOCHS, validation_data=val_data)"
   ]
  },
  {
   "cell_type": "code",
   "execution_count": null,
   "metadata": {},
   "outputs": [],
   "source": [
    "with open(\"history.pkl\", \"wb\") as f:\n",
    "    pickle.dump(history.history, f)"
   ]
  },
  {
   "cell_type": "code",
   "execution_count": 1,
   "metadata": {},
   "outputs": [],
   "source": [
    "import pickle\n",
    "\n",
    "with open(\"history.pkl\", \"rb\") as f:\n",
    "    history = pickle.load(f)"
   ]
  },
  {
   "cell_type": "code",
   "execution_count": 29,
   "metadata": {},
   "outputs": [],
   "source": [
    "loss = history.history['loss']\n",
    "val_loss = history.history['val_loss']"
   ]
  },
  {
   "cell_type": "code",
   "execution_count": null,
   "metadata": {},
   "outputs": [
    {
     "data": {
      "image/png": "[encoded data removed]",
      "text/plain": [
       "<Figure size 800x800 with 1 Axes>"
      ]
     },
     "metadata": {},
     "output_type": "display_data"
    }
   ],
   "source": [
    "plt.figure(figsize=(8,8))\n",
    "plt.plot(loss, label='Training Loss')\n",
    "plt.plot(val_loss, label='Validation Loss')\n",
    "plt.legend(loc='upper right')\n",
    "plt.ylabel('Binary Cross Entropy')\n",
    "plt.ylim([0,1.0])\n",
    "plt.title('Training and Validation Loss')\n",
    "plt.xlabel('epoch')\n",
    "plt.savefig(\"loss_plot.png\")"
   ]
  },
  {
   "cell_type": "code",
   "execution_count": 31,
   "metadata": {},
   "outputs": [],
   "source": [
    "dog_precision = history.history['val_Precision (Dog)']\n",
    "dog_recall = history.history['val_Recall (Dog)']\n",
    "person_precision = history.history['val_Precision (Person)']\n",
    "person_recall = history.history['val_Recall (Person)']"
   ]
  },
  {
   "cell_type": "code",
   "execution_count": 32,
   "metadata": {},
   "outputs": [
    {
     "data": {
      "image/png": "[encoded data removed]",
      "text/plain": [
       "<Figure size 800x800 with 1 Axes>"
      ]
     },
     "metadata": {},
     "output_type": "display_data"
    }
   ],
   "source": [
    "plt.figure(figsize=(8,8))\n",
    "plt.plot(dog_precision, label='Precision (Dog)')\n",
    "plt.plot(dog_recall, label='Recall (Dog)')\n",
    "plt.plot(person_precision, label='Precision (Person)')\n",
    "plt.plot(person_recall, label='Recall (Person)')\n",
    "plt.legend(loc='lower right')\n",
    "plt.ylabel('Precision/Recall')\n",
    "plt.ylim([0,1.0])\n",
    "plt.title('Precision and Recall per class during validation')\n",
    "plt.xlabel('epoch')\n",
    "plt.show()"
   ]
  },
  {
   "cell_type": "code",
   "execution_count": 40,
   "metadata": {},
   "outputs": [
    {
     "data": {
      "text/plain": [
       "TensorShape([32, 224, 224, 3])"
      ]
     },
     "execution_count": 40,
     "metadata": {},
     "output_type": "execute_result"
    }
   ],
   "source": [
    "test_data = test_data.batch(32).prefetch(tf.data.AUTOTUNE)\n",
    "image, label = next(iter(test_data))\n",
    "image.shape"
   ]
  },
  {
   "cell_type": "code",
   "execution_count": 46,
   "metadata": {},
   "outputs": [
    {
     "name": "stdout",
     "output_type": "stream",
     "text": [
      "1/1 [==============================] - 1s 643ms/step\n",
      "[ True False]\n",
      "[ True  True]\n",
      "[ True  True]\n",
      "[ True  True]\n",
      "[ True False]\n",
      "[ True False]\n",
      "[ True  True]\n",
      "[False False]\n",
      "[ True  True]\n",
      "[ True False]\n",
      "[ True  True]\n",
      "[ True  True]\n",
      "[ True  True]\n",
      "[ True  True]\n",
      "[ True  True]\n",
      "[ True  True]\n",
      "[ True  True]\n",
      "[ True  True]\n",
      "[ True  True]\n",
      "[ True  True]\n",
      "[ True  True]\n",
      "[ True  True]\n",
      "[False  True]\n",
      "[ True  True]\n",
      "[ True  True]\n",
      "[ True  True]\n",
      "[ True  True]\n",
      "[ True  True]\n",
      "[False  True]\n",
      "[ True False]\n",
      "[ True  True]\n",
      "[ True  True]\n"
     ]
    }
   ],
   "source": [
    "predictions = model.predict(image)\n",
    "binary_preds = (predictions > 0.5).astype(int)\n",
    "for pred, label in zip(binary_preds, labels):\n",
    "    print(pred==label)"
   ]
  }
 ],
 "metadata": {
  "kernelspec": {
   "display_name": "cnn-dog-person-classifier",
   "language": "python",
   "name": "python3"
  },
  "language_info": {
   "codemirror_mode": {
    "name": "ipython",
    "version": 3
   },
   "file_extension": ".py",
   "mimetype": "text/x-python",
   "name": "python",
   "nbconvert_exporter": "python",
   "pygments_lexer": "ipython3",
   "version": "3.10.13"
  }
 },
 "nbformat": 4,
 "nbformat_minor": 2
}
